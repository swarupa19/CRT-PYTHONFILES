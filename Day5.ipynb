{
 "cells": [
  {
   "cell_type": "code",
   "execution_count": null,
   "metadata": {},
   "outputs": [],
   "source": [
    "#count no.of digits in the given string\n",
    "#input:\"phython123is456good789\"\n",
    "#output:9\n",
    "\n",
    "s=input()\n",
    "i=0\n",
    "count=0\n",
    "while i<len(s):\n",
    "    if s[i].isdigit():\n",
    "        count+=1\n",
    "        i+=1\n",
    "print(count)"
   ]
  },
  {
   "cell_type": "code",
   "execution_count": null,
   "metadata": {},
   "outputs": [],
   "source": [
    "s=input()\n",
    "i=0\n",
    "count=0\n",
    "while i<len(s):\n",
    "    if s[i].isdigit():\n",
    "        count+=1\n",
    "        i+=1\n",
    "        print(count)\n",
    "        "
   ]
  },
  {
   "cell_type": "code",
   "execution_count": null,
   "metadata": {},
   "outputs": [],
   "source": []
  }
 ],
 "metadata": {
  "kernelspec": {
   "display_name": "Python 3",
   "language": "python",
   "name": "python3"
  },
  "language_info": {
   "codemirror_mode": {
    "name": "ipython",
    "version": 3
   },
   "file_extension": ".py",
   "mimetype": "text/x-python",
   "name": "python",
   "nbconvert_exporter": "python",
   "pygments_lexer": "ipython3",
   "version": "3.7.4"
  }
 },
 "nbformat": 4,
 "nbformat_minor": 2
}
