{
 "cells": [
  {
   "cell_type": "code",
   "execution_count": 1,
   "metadata": {},
   "outputs": [
    {
     "name": "stdout",
     "output_type": "stream",
     "text": [
      "gtr5hu8\n",
      "2\n"
     ]
    }
   ],
   "source": [
    "s=input()\n",
    "i=0\n",
    "count=0\n",
    "while i<len(s):\n",
    "    if s[i].isdigit():\n",
    "        count+=1\n",
    "    i+=1\n",
    "print(count)"
   ]
  },
  {
   "cell_type": "code",
   "execution_count": 21,
   "metadata": {},
   "outputs": [
    {
     "name": "stdout",
     "output_type": "stream",
     "text": [
      "sd4r4\n",
      "8\n"
     ]
    }
   ],
   "source": [
    "s=input()\n",
    "i=0\n",
    "sum1=0\n",
    "while i<len(s):\n",
    "    if s[i].isdigit():\n",
    "        sum1+=int(s[i])\n",
    "    i+=1   \n",
    "print(sum1)"
   ]
  },
  {
   "cell_type": "code",
   "execution_count": 3,
   "metadata": {},
   "outputs": [
    {
     "name": "stdout",
     "output_type": "stream",
     "text": [
      "enter a number12\n",
      "1 3 5 7 9 11 "
     ]
    }
   ],
   "source": [
    "#for loop\n",
    "#1.using range()\n",
    "#2.using iterable object\n",
    "n= int(input(\"enter a number\"))\n",
    "for i in range(1,n+1,2):\n",
    "    print(i,end=\" \")"
   ]
  },
  {
   "cell_type": "code",
   "execution_count": 1,
   "metadata": {},
   "outputs": [
    {
     "name": "stdout",
     "output_type": "stream",
     "text": [
      "enter a stringphython\n",
      "p h y t h o n "
     ]
    }
   ],
   "source": [
    "#input:phython\n",
    "#output:p h y t h o n\n",
    "\n",
    "s=input(\"enter a string\")\n",
    "i=0\n",
    "while i<len(s):\n",
    "    print(s[i],end=\" \")\n",
    "    i+=1"
   ]
  },
  {
   "cell_type": "code",
   "execution_count": 5,
   "metadata": {},
   "outputs": [
    {
     "name": "stdout",
     "output_type": "stream",
     "text": [
      "enter a stringadad\n",
      "a d a d "
     ]
    }
   ],
   "source": [
    "s=input(\"enter a string\")\n",
    "i=0\n",
    "for i in range(0,len(s)):\n",
    "    print(s[i],end=\" \")"
   ]
  },
  {
   "cell_type": "code",
   "execution_count": 8,
   "metadata": {},
   "outputs": [
    {
     "name": "stdout",
     "output_type": "stream",
     "text": [
      "enter a stringsfdf\n",
      "s f d f "
     ]
    }
   ],
   "source": [
    "#for iterable loop( reads the value in the \"s\" first)\n",
    "s=input(\"enter a string\")\n",
    "i=0\n",
    "for i in s:\n",
    "    print(i,end=\" \")\n",
    "    \n"
   ]
  },
  {
   "cell_type": "code",
   "execution_count": 9,
   "metadata": {},
   "outputs": [],
   "source": [
    "##COLLECTION TYPE DATA TYPE\n",
    "##LIST:\n",
    "# 1.for creating a list use []\n",
    "# 2.lists are mutable\n",
    "# 3.lists are indexed\n",
    "# 4.lists are ordered\n",
    "# 5.lists allow duplicate values\n",
    "# 6.stores heterogenous values\n"
   ]
  },
  {
   "cell_type": "code",
   "execution_count": 20,
   "metadata": {},
   "outputs": [
    {
     "name": "stdout",
     "output_type": "stream",
     "text": [
      "[1, 2, 3]\n",
      "[56.7, 'string']\n",
      "gnirts\n",
      "3\n"
     ]
    }
   ],
   "source": [
    "list1 =[23,34,56.7,\"string\",True,[1,2,3]]\n",
    "print(list1[-1])\n",
    "print(list1[2:4])\n",
    "print(list1[-3][::-1]) #print reverse of \"string\"\n",
    "print(list1[-1][-1]) #extract elements from sub list\n"
   ]
  },
  {
   "cell_type": "code",
   "execution_count": 40,
   "metadata": {},
   "outputs": [
    {
     "name": "stdout",
     "output_type": "stream",
     "text": [
      "before adding elements [34, 45, 56, 67]\n",
      "after ADDING elements [34, 45, 56, 67, 100, 200, 300]\n"
     ]
    }
   ],
   "source": [
    "#manipulating a list\n",
    "#1.adding elements ..............>>> append(), insert(),extend()\n",
    "#( append == add elements at end of the list)\n",
    "list1=[34,45,56,67]\n",
    "print(\"before adding elements\",list1)\n",
    "list1.append(100)\n",
    "list1.append(200)\n",
    "list1.append(300)\n",
    "print(\"after ADDING elements\",list1)"
   ]
  },
  {
   "cell_type": "code",
   "execution_count": 22,
   "metadata": {},
   "outputs": [
    {
     "data": {
      "text/plain": [
       "[34, 400, 45, 56, 67, 100, 200, 300]"
      ]
     },
     "execution_count": 22,
     "metadata": {},
     "output_type": "execute_result"
    }
   ],
   "source": [
    "list1.insert(1,400) #insert at position \"1\"\n",
    "list1"
   ]
  },
  {
   "cell_type": "code",
   "execution_count": 27,
   "metadata": {},
   "outputs": [
    {
     "data": {
      "text/plain": [
       "[34,\n",
       " 400,\n",
       " 45,\n",
       " 56,\n",
       " 67,\n",
       " 100,\n",
       " 200,\n",
       " 300,\n",
       " 1,\n",
       " 2,\n",
       " 3,\n",
       " 1,\n",
       " 2,\n",
       " 3,\n",
       " 1,\n",
       " 2,\n",
       " 3,\n",
       " 1,\n",
       " 2,\n",
       " 3,\n",
       " 1,\n",
       " 2,\n",
       " 3]"
      ]
     },
     "execution_count": 27,
     "metadata": {},
     "output_type": "execute_result"
    }
   ],
   "source": [
    "list1.extend([1,2,3])\n",
    "list1                          #extend() accepts iterable object as argument"
   ]
  },
  {
   "cell_type": "code",
   "execution_count": 35,
   "metadata": {},
   "outputs": [
    {
     "name": "stdout",
     "output_type": "stream",
     "text": [
      "[34, 1, 2, 3, 1, 2, 3, 1]\n"
     ]
    },
    {
     "ename": "IndexError",
     "evalue": "pop index out of range",
     "output_type": "error",
     "traceback": [
      "\u001b[1;31m---------------------------------------------------------------------------\u001b[0m",
      "\u001b[1;31mIndexError\u001b[0m                                Traceback (most recent call last)",
      "\u001b[1;32m<ipython-input-35-414dd80b4a94>\u001b[0m in \u001b[0;36m<module>\u001b[1;34m\u001b[0m\n\u001b[0;32m      4\u001b[0m \u001b[0mlist1\u001b[0m\u001b[1;33m.\u001b[0m\u001b[0mpop\u001b[0m\u001b[1;33m(\u001b[0m\u001b[1;36m1\u001b[0m\u001b[1;33m)\u001b[0m\u001b[1;33m\u001b[0m\u001b[1;33m\u001b[0m\u001b[0m\n\u001b[0;32m      5\u001b[0m \u001b[0mprint\u001b[0m\u001b[1;33m(\u001b[0m\u001b[0mlist1\u001b[0m\u001b[1;33m)\u001b[0m\u001b[1;33m\u001b[0m\u001b[1;33m\u001b[0m\u001b[0m\n\u001b[1;32m----> 6\u001b[1;33m \u001b[0mlist1\u001b[0m\u001b[1;33m.\u001b[0m\u001b[0mpop\u001b[0m\u001b[1;33m(\u001b[0m\u001b[1;36m17\u001b[0m\u001b[1;33m)\u001b[0m \u001b[1;31m# error : pop index out of range\u001b[0m\u001b[1;33m\u001b[0m\u001b[1;33m\u001b[0m\u001b[0m\n\u001b[0m\u001b[0;32m      7\u001b[0m \u001b[1;33m\u001b[0m\u001b[0m\n\u001b[0;32m      8\u001b[0m \u001b[1;33m\u001b[0m\u001b[0m\n",
      "\u001b[1;31mIndexError\u001b[0m: pop index out of range"
     ]
    }
   ],
   "source": [
    "#removing elements from the list.........>> pop(),remove(),clear()\n",
    "list1.pop() #removes last element\n",
    "list1\n",
    "list1.pop(1)\n",
    "print(list1)\n",
    "list1.pop(17) # error : pop index out of range\n",
    "\n"
   ]
  },
  {
   "cell_type": "code",
   "execution_count": 37,
   "metadata": {},
   "outputs": [
    {
     "data": {
      "text/plain": [
       "[2, 3, 1, 2, 3, 1]"
      ]
     },
     "execution_count": 37,
     "metadata": {},
     "output_type": "execute_result"
    }
   ],
   "source": [
    "list1.remove(34) # removes the specified number not the position\n",
    "list1"
   ]
  },
  {
   "cell_type": "code",
   "execution_count": 38,
   "metadata": {},
   "outputs": [
    {
     "data": {
      "text/plain": [
       "[]"
      ]
     },
     "execution_count": 38,
     "metadata": {},
     "output_type": "execute_result"
    }
   ],
   "source": [
    "list1.clear()\n",
    "list1"
   ]
  },
  {
   "cell_type": "markdown",
   "metadata": {},
   "source": [
    "### replacing an element\n",
    "list1[5]=1000\n",
    "list1"
   ]
  },
  {
   "cell_type": "code",
   "execution_count": 59,
   "metadata": {},
   "outputs": [
    {
     "name": "stdout",
     "output_type": "stream",
     "text": [
      "[34, 34, 65, 87, 454]\n"
     ]
    }
   ],
   "source": [
    "#sorting a list\n",
    "list1=[34,87,454,65,34,] #....>>doesnt return any value but sorts the list\n",
    "list1.sort(reverse=True)   #......>> prints in desending order\n",
    "list1.reverse()            #.......>>> doesnot sort but reverses the actual list\n",
    "print(list1)"
   ]
  },
  {
   "cell_type": "code",
   "execution_count": 52,
   "metadata": {},
   "outputs": [
    {
     "data": {
      "text/plain": [
       "6"
      ]
     },
     "execution_count": 52,
     "metadata": {},
     "output_type": "execute_result"
    }
   ],
   "source": [
    "list1.index(65) "
   ]
  },
  {
   "cell_type": "code",
   "execution_count": 53,
   "metadata": {},
   "outputs": [
    {
     "data": {
      "text/plain": [
       "4"
      ]
     },
     "execution_count": 53,
     "metadata": {},
     "output_type": "execute_result"
    }
   ],
   "source": [
    "list1.count(34)"
   ]
  },
  {
   "cell_type": "code",
   "execution_count": 56,
   "metadata": {},
   "outputs": [
    {
     "name": "stdout",
     "output_type": "stream",
     "text": [
      "[0, 1, 34, 34, 34, 34, 65, 87, 454, 'swarupa']    [0, 1, 34, 34, 34, 34, 65, 87, 454, 'swarupa']\n"
     ]
    }
   ],
   "source": [
    "list1.append(\"swarupa\")\n",
    "list2=list1 #................>>> all the changes in the original list are reflected \n",
    "print(list1,\"  \",list2)"
   ]
  },
  {
   "cell_type": "code",
   "execution_count": 57,
   "metadata": {},
   "outputs": [
    {
     "data": {
      "text/plain": [
       "[0, 1, 34, 34, 34, 34, 65, 87, 454, 'swarupa']"
      ]
     },
     "execution_count": 57,
     "metadata": {},
     "output_type": "execute_result"
    }
   ],
   "source": [
    "list3=list1.copy()  #.....>> all the changes in original list are not reflected\n",
    "list3"
   ]
  },
  {
   "cell_type": "code",
   "execution_count": 60,
   "metadata": {},
   "outputs": [
    {
     "name": "stdout",
     "output_type": "stream",
     "text": [
      "[34, 34, 65, 87, 454] [0, 1, 34, 34, 34, 34, 65, 87, 454, 'swarupa', 133] [0, 1, 34, 34, 34, 34, 65, 87, 454, 'swarupa']\n",
      "[34, 34, 65, 87, 454, 133] [0, 1, 34, 34, 34, 34, 65, 87, 454, 'swarupa', 133] [0, 1, 34, 34, 34, 34, 65, 87, 454, 'swarupa']\n"
     ]
    }
   ],
   "source": [
    "print(list1,list2,list3)\n",
    "list1.append(133)\n",
    "print(list1,list2,list3)"
   ]
  },
  {
   "cell_type": "code",
   "execution_count": 11,
   "metadata": {},
   "outputs": [
    {
     "name": "stdout",
     "output_type": "stream",
     "text": [
      "[4, 16, 9] [4, 16, 9]\n"
     ]
    }
   ],
   "source": [
    "#input :[2,4,5,7,8]\n",
    "#output:[4,16,25,49,64]\n",
    "\n",
    "l1=[2,4,3]\n",
    "l2=[]\n",
    "l3=[]\n",
    "i=0\n",
    "for i in range(0,len(l1)):\n",
    "    l2.append(l1[i]**2)\n",
    "print(l2,end=\" \")\n",
    "    \n",
    "for i in l1:\n",
    "        l3.append(i**2)\n",
    "print(l3)\n",
    "        \n",
    "        "
   ]
  },
  {
   "cell_type": "code",
   "execution_count": 31,
   "metadata": {},
   "outputs": [
    {
     "name": "stdout",
     "output_type": "stream",
     "text": [
      "[6, 8, 4]\n"
     ]
    }
   ],
   "source": [
    "#create a list and print only even elements\n",
    "\n",
    "l1=[1,6,9,8,4,3]\n",
    "l2=[]\n",
    "i=0\n",
    "for i in range(0,len(l1)):\n",
    "    if l1[i]%2==0:\n",
    "        l2.append(l1[i])\n",
    "print(l2)"
   ]
  },
  {
   "cell_type": "code",
   "execution_count": 37,
   "metadata": {},
   "outputs": [
    {
     "name": "stdout",
     "output_type": "stream",
     "text": [
      "4\n",
      "2\n",
      "21\n",
      "2\n",
      "1\n",
      "sum: 26\n"
     ]
    }
   ],
   "source": [
    "#create a list and accept values of the list at the runtime and print sum of all the elements of the list\n",
    "\n",
    "\n",
    "l1=[]\n",
    "sum1=0\n",
    "\n",
    "n=int(input())\n",
    "for i in range(n):\n",
    "    l1.append(int(input()))\n",
    "    sum1=sum1+l1[i]\n",
    "print(\"sum:\",sum1)\n",
    "    "
   ]
  },
  {
   "cell_type": "markdown",
   "metadata": {},
   "source": [
    "# Tuple:....> (immutable)\n",
    "#...> use paranthesis\n",
    "#...> no built in methods\n"
   ]
  },
  {
   "cell_type": "code",
   "execution_count": 38,
   "metadata": {},
   "outputs": [
    {
     "name": "stdout",
     "output_type": "stream",
     "text": [
      "(23, 45, 3, 23, 67)\n",
      "<class 'tuple'>\n"
     ]
    }
   ],
   "source": [
    "x= 23,45,3,23,67\n",
    "print(x)\n",
    "print(type(x))"
   ]
  },
  {
   "cell_type": "code",
   "execution_count": 39,
   "metadata": {},
   "outputs": [
    {
     "name": "stdout",
     "output_type": "stream",
     "text": [
      "23 34 5\n"
     ]
    }
   ],
   "source": [
    "tup1=(23,34,5)\n",
    "x,y,z=tup1    #unpacking\n",
    "print(x,y,z)"
   ]
  },
  {
   "cell_type": "markdown",
   "metadata": {},
   "source": [
    "# dictionary:\n",
    "## syntax : { key1:value1,key2:value2,...}\n",
    "## key:\n",
    "# 1.key should be unique\n",
    "# 2..key should be immutable\n",
    "\n",
    "\n"
   ]
  },
  {
   "cell_type": "code",
   "execution_count": 41,
   "metadata": {},
   "outputs": [
    {
     "data": {
      "text/plain": [
       "'phython'"
      ]
     },
     "execution_count": 41,
     "metadata": {},
     "output_type": "execute_result"
    }
   ],
   "source": [
    "dict1 = {\"name\":\"swarupa\",\"course\":\"phython\",\"address\":\"hyderabad\"}\n",
    "dict1[\"course\"] #,..>retrive values from dict\n",
    "\n"
   ]
  },
  {
   "cell_type": "code",
   "execution_count": 42,
   "metadata": {},
   "outputs": [
    {
     "name": "stdout",
     "output_type": "stream",
     "text": [
      "{'name': 'swarupa', 'course': 'c prg', 'address': 'hyderabad'}\n"
     ]
    }
   ],
   "source": [
    "#replace values\n",
    "dict1[\"course\"]=\"c prg\"\n",
    "print(dict1)"
   ]
  },
  {
   "cell_type": "code",
   "execution_count": 43,
   "metadata": {},
   "outputs": [
    {
     "name": "stdout",
     "output_type": "stream",
     "text": [
      "{'name': 'swarupa', 'course': 'c prg', 'address': 'hyderabad', 'collage': 'GITAM'}\n"
     ]
    }
   ],
   "source": [
    "#adding new entry\n",
    "dict1[\"collage\"] =\"GITAM\"\n",
    "print(dict1)"
   ]
  },
  {
   "cell_type": "code",
   "execution_count": 44,
   "metadata": {},
   "outputs": [
    {
     "name": "stdout",
     "output_type": "stream",
     "text": [
      "{'course': 'c prg', 'address': 'hyderabad', 'collage': 'GITAM'}\n"
     ]
    }
   ],
   "source": [
    "#removing entry \n",
    "del dict1[\"name\"]\n",
    "print(dict1)"
   ]
  },
  {
   "cell_type": "markdown",
   "metadata": {},
   "source": [
    "# FUNCTION\n",
    "## SYNTAX : def name_of_the_function(arg list):\n",
    "\n",
    "     .....>statements\n",
    "     \n",
    "     \n",
    "     .....>return value (optional)"
   ]
  },
  {
   "cell_type": "code",
   "execution_count": 48,
   "metadata": {},
   "outputs": [
    {
     "name": "stdout",
     "output_type": "stream",
     "text": [
      "30\n",
      "None\n",
      "300\n",
      "None\n"
     ]
    }
   ],
   "source": [
    "def add(x,y):  #func def\n",
    "    print(x+y)\n",
    "\n",
    "print(add(10,20))   #func calling\n",
    "print(add(100,200))"
   ]
  },
  {
   "cell_type": "code",
   "execution_count": 54,
   "metadata": {},
   "outputs": [
    {
     "name": "stdout",
     "output_type": "stream",
     "text": [
      "4\n",
      "27\n"
     ]
    }
   ],
   "source": [
    "def sq(n):\n",
    "    return(n*n)\n",
    "print(sq(2))\n",
    "def cube(n):\n",
    "    return sq(n)*n\n",
    "\n",
    "print(cube(3))"
   ]
  },
  {
   "cell_type": "code",
   "execution_count": null,
   "metadata": {},
   "outputs": [],
   "source": []
  },
  {
   "cell_type": "code",
   "execution_count": null,
   "metadata": {},
   "outputs": [],
   "source": []
  }
 ],
 "metadata": {
  "kernelspec": {
   "display_name": "Python 3",
   "language": "python",
   "name": "python3"
  },
  "language_info": {
   "codemirror_mode": {
    "name": "ipython",
    "version": 3
   },
   "file_extension": ".py",
   "mimetype": "text/x-python",
   "name": "python",
   "nbconvert_exporter": "python",
   "pygments_lexer": "ipython3",
   "version": "3.7.4"
  }
 },
 "nbformat": 4,
 "nbformat_minor": 2
}
